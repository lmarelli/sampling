{
 "cells": [
  {
   "cell_type": "code",
   "execution_count": 1,
   "id": "b8ee8716",
   "metadata": {},
   "outputs": [
    {
     "name": "stdout",
     "output_type": "stream",
     "text": [
      "beer_style\n",
      "American IPA                        23095\n",
      "American Double / Imperial Stout    17387\n",
      "American Double / Imperial IPA      12440\n",
      "American Pale Ale (APA)              9393\n",
      "American Porter                      6425\n",
      "Name: count, dtype: int64\n"
     ]
    }
   ],
   "source": [
    "# Import packages\n",
    "import pandas as pd\n",
    "import random\n",
    "\n",
    "# Load the CSV and take a peek\n",
    "beer = pd.read_csv(\"beer_reviews_fragment.csv\", dtype={\"beer_style\": 'category'})\n",
    "style_count = beer['beer_style'].value_counts()\n",
    "print(style_count.head())"
   ]
  },
  {
   "cell_type": "code",
   "execution_count": 2,
   "id": "5ef21fba",
   "metadata": {},
   "outputs": [],
   "source": [
    "#Create a list of unique values\n",
    "unique_beer = list(beer[\"beer_style\"].unique())\n",
    "\n",
    "#Optional: seed to replicate model and get to the same result\n",
    "random.seed(222)\n",
    "beer_sample = random.sample(unique_beer, k=5)\n",
    "\n",
    "#2nd Step: Create a boolean condition to subset\n",
    "beer_condition = beer['beer_style'].isin(beer_sample)\n",
    "beer_cluster = beer[beer_condition]"
   ]
  },
  {
   "cell_type": "code",
   "execution_count": 3,
   "id": "97721fd2",
   "metadata": {},
   "outputs": [
    {
     "name": "stdout",
     "output_type": "stream",
     "text": [
      "beer_style\n",
      "American Barleywine    5\n",
      "American IPA           5\n",
      "Euro Strong Lager      5\n",
      "Gueuze                 5\n",
      "Weizenbock             5\n",
      "Name: count, dtype: int64\n"
     ]
    },
    {
     "name": "stderr",
     "output_type": "stream",
     "text": [
      "C:\\Users\\Luciano\\AppData\\Local\\Temp\\ipykernel_12900\\376943464.py:2: SettingWithCopyWarning: \n",
      "A value is trying to be set on a copy of a slice from a DataFrame.\n",
      "Try using .loc[row_indexer,col_indexer] = value instead\n",
      "\n",
      "See the caveats in the documentation: https://pandas.pydata.org/pandas-docs/stable/user_guide/indexing.html#returning-a-view-versus-a-copy\n",
      "  beer_cluster['beer_style'] = beer_cluster['beer_style'].cat.remove_unused_categories()\n"
     ]
    }
   ],
   "source": [
    "#Remove unused categories\n",
    "beer_cluster['beer_style'] = beer_cluster['beer_style'].cat.remove_unused_categories()\n",
    "\n",
    "#3rd Step:\n",
    "cluster_sample = beer_cluster.groupby(\"beer_style\").sample(n=5,random_state=2000) \n",
    "print(cluster_sample['beer_style'].value_counts())\n"
   ]
  },
  {
   "cell_type": "code",
   "execution_count": null,
   "id": "740b8f2f",
   "metadata": {},
   "outputs": [],
   "source": []
  }
 ],
 "metadata": {
  "kernelspec": {
   "display_name": "Python 3 (ipykernel)",
   "language": "python",
   "name": "python3"
  },
  "language_info": {
   "codemirror_mode": {
    "name": "ipython",
    "version": 3
   },
   "file_extension": ".py",
   "mimetype": "text/x-python",
   "name": "python",
   "nbconvert_exporter": "python",
   "pygments_lexer": "ipython3",
   "version": "3.11.5"
  }
 },
 "nbformat": 4,
 "nbformat_minor": 5
}
